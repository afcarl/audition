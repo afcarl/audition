{
 "cells": [
  {
   "cell_type": "code",
   "execution_count": null,
   "metadata": {
    "collapsed": false
   },
   "outputs": [],
   "source": [
    "%matplotlib inline\n",
    "from matplotlib import pyplot as plt\n",
    "plt.style.use('ggplot')\n",
    "\n",
    "import pandas as pd\n",
    "pd.set_option('precision', 4)\n",
    "\n",
    "from audition.distance_from_best import DistanceFromBestTable, BestDistancePlotter\n",
    "from audition.thresholding import ModelGroupThresholder\n",
    "from audition.regrets import RegretCalculator\n",
    "import catwalk.db"
   ]
  },
  {
   "cell_type": "markdown",
   "metadata": {},
   "source": [
    "### Creating the best distance table\n",
    "Currently you need to specify the set of `model_group_id`s and `train_end_time`s you want to use manually, so here we're reading a few sets out of the database.\n",
    "\n",
    "Additionally, you need to specify a name for the best distance table when creating the `DistanceFromBestTable` and should ensure it doesn't exist if you're going to run the `create_and_populate()` method.\n",
    "\n",
    "For simplicity, we'll just look at precision@300_abs here."
   ]
  },
  {
   "cell_type": "code",
   "execution_count": null,
   "metadata": {
    "collapsed": false
   },
   "outputs": [],
   "source": [
    "conn = catwalk.db.connect()"
   ]
  },
  {
   "cell_type": "code",
   "execution_count": null,
   "metadata": {
    "collapsed": true
   },
   "outputs": [],
   "source": [
    "sel = \"\"\"\n",
    "SELECT model_group_id\n",
    "FROM results.model_groups\n",
    "WHERE model_config->>'label_definition' = 'any_serious_violation'\n",
    "ORDER BY RANDOM()\n",
    ";\n",
    "\"\"\"\n",
    "\n",
    "model_groups = list(pd.read_sql(sel,conn)['model_group_id'])"
   ]
  },
  {
   "cell_type": "code",
   "execution_count": null,
   "metadata": {
    "collapsed": false
   },
   "outputs": [],
   "source": [
    "sel = \"\"\"\n",
    "SELECT DISTINCT train_end_time\n",
    "FROM results.models\n",
    "WHERE model_group_id IN ({})\n",
    "    AND EXTRACT(MONTH FROM train_end_time) IN (1,4,7,10)\n",
    "    AND train_end_time >= '2012-01-01'\n",
    "ORDER BY train_end_time\n",
    ";\n",
    "\"\"\".format(', '.join(map(str, model_groups)))\n",
    "\n",
    "end_times = list(pd.read_sql(sel, conn)['train_end_time'])"
   ]
  },
  {
   "cell_type": "code",
   "execution_count": null,
   "metadata": {
    "collapsed": false
   },
   "outputs": [],
   "source": [
    "dbt = DistanceFromBestTable(conn, 'models', 'kr_test_dist')\n",
    "dbt.create_and_populate(model_groups, end_times, [{'metric' : 'precision@', 'parameter' : '300_abs'}])\n",
    "plotter = BestDistancePlotter(dbt)"
   ]
  },
  {
   "cell_type": "markdown",
   "metadata": {},
   "source": [
    "### Plotting the best distance metric\n",
    "This is done with the `BestDistanceHistogrammer` class and make take a minute to generate."
   ]
  },
  {
   "cell_type": "code",
   "execution_count": null,
   "metadata": {
    "collapsed": false
   },
   "outputs": [],
   "source": [
    "plotter.plot_all_best_dist([{'metric' : 'precision@', 'parameter' : '300_abs'}], model_groups, end_times)"
   ]
  },
  {
   "cell_type": "markdown",
   "metadata": {},
   "source": [
    "### Applying thresholds to weed out bad models\n",
    "Here we use the `ModelGroupThresholder` to apply a set of filters to the model groups we're considering in order to elminate poorly performing ones."
   ]
  },
  {
   "cell_type": "code",
   "execution_count": null,
   "metadata": {
    "collapsed": true
   },
   "outputs": [],
   "source": [
    "mgt = ModelGroupThresholder(\n",
    "    dbt,\n",
    "    end_times,\n",
    "    model_groups,\n",
    "    initial_metric_filters=[{\n",
    "        'metric': 'precision@',\n",
    "        'parameter': '300_abs',\n",
    "        'max_from_best': 0.2,\n",
    "        'threshold_value': 0.0\n",
    "    }]\n",
    ")"
   ]
  },
  {
   "cell_type": "markdown",
   "metadata": {},
   "source": [
    "Apply a round of filtering, starting with no threshold_value and a fairly wide margin on max_from_best"
   ]
  },
  {
   "cell_type": "code",
   "execution_count": null,
   "metadata": {
    "collapsed": false
   },
   "outputs": [],
   "source": [
    "# how many model groups are left after the first round of filtering?\n",
    "len(mgt.model_group_ids)"
   ]
  },
  {
   "cell_type": "code",
   "execution_count": null,
   "metadata": {
    "collapsed": false
   },
   "outputs": [],
   "source": [
    "plotter.plot_all_best_dist(\n",
    "    [{'metric' : 'precision@', 'metric_param' : '300_abs'}], \n",
    "    mgt.model_group_ids, \n",
    "    end_times\n",
    ")"
   ]
  },
  {
   "cell_type": "markdown",
   "metadata": {},
   "source": [
    "That didn't thin things out too much, so let's get a bit more agressive with both parameters:"
   ]
  },
  {
   "cell_type": "code",
   "execution_count": null,
   "metadata": {
    "collapsed": false
   },
   "outputs": [],
   "source": [
    "mgt.update_filters([{\n",
    "    'metric': 'precision@',\n",
    "    'parameter': '300_abs',\n",
    "    'max_from_best': 0.1,\n",
    "    'threshold_value': 0.5\n",
    "}])\n",
    "len(mgt.model_group_ids)"
   ]
  },
  {
   "cell_type": "code",
   "execution_count": null,
   "metadata": {
    "collapsed": false
   },
   "outputs": [],
   "source": [
    "plotter.plot_all_best_dist(\n",
    "    [{'metric' : 'precision@', 'parameter' : '300_abs'}], \n",
    "    mgt.model_group_ids, \n",
    "    end_times\n",
    ")"
   ]
  },
  {
   "cell_type": "markdown",
   "metadata": {},
   "source": [
    "That's starting to look better, but we can probably narrow even a bit more..."
   ]
  },
  {
   "cell_type": "code",
   "execution_count": null,
   "metadata": {
    "collapsed": false
   },
   "outputs": [],
   "source": [
    "mgt.update_filters([{\n",
    "    'metric': 'precision@',\n",
    "    'parameter': '300_abs',\n",
    "    'max_from_best': 0.05,\n",
    "    'threshold_value': 0.65\n",
    "}])\n",
    "len(mgt.model_group_ids)"
   ]
  },
  {
   "cell_type": "code",
   "execution_count": null,
   "metadata": {
    "collapsed": false
   },
   "outputs": [],
   "source": [
    "plotter.plot_all_best_dist(\n",
    "    [{'metric' : 'precision@', 'parameter' : '300_abs'}], \n",
    "    mgt.model_group_ids, \n",
    "    end_times\n",
    ")"
   ]
  },
  {
   "cell_type": "markdown",
   "metadata": {},
   "source": [
    "This looks like a better set of prospective models to consider. Could potentially even back off a little bit, but certainly seems like we've cleared out most of the worst models.\n",
    "\n",
    "### Calculating regrets for the narrowed set of models"
   ]
  },
  {
   "cell_type": "code",
   "execution_count": null,
   "metadata": {
    "collapsed": false
   },
   "outputs": [],
   "source": [
    "from audition.selection_rules import best_average_value"
   ]
  },
  {
   "cell_type": "code",
   "execution_count": null,
   "metadata": {
    "collapsed": true
   },
   "outputs": [],
   "source": [
    "rc = RegretCalculator(dbt)"
   ]
  },
  {
   "cell_type": "code",
   "execution_count": null,
   "metadata": {
    "collapsed": false
   },
   "outputs": [],
   "source": [
    "rc.regrets_for_rule(\n",
    "    best_average_value, \n",
    "    mgt.model_group_ids, \n",
    "    sorted(end_times)[:-1], \n",
    "    'precision@', \n",
    "    '300_abs', \n",
    "    {'metric': 'precision@', 'parameter': '300_abs'}\n",
    ")"
   ]
  },
  {
   "cell_type": "code",
   "execution_count": null,
   "metadata": {
    "collapsed": true
   },
   "outputs": [],
   "source": []
  }
 ],
 "metadata": {
  "anaconda-cloud": {},
  "kernelspec": {
   "display_name": "Python [default]",
   "language": "python",
   "name": "python2"
  },
  "language_info": {
   "codemirror_mode": {
    "name": "ipython",
    "version": 2
   },
   "file_extension": ".py",
   "mimetype": "text/x-python",
   "name": "python",
   "nbconvert_exporter": "python",
   "pygments_lexer": "ipython2",
   "version": "2.7.12"
  }
 },
 "nbformat": 4,
 "nbformat_minor": 1
}
